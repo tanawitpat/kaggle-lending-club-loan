{
 "cells": [
  {
   "cell_type": "code",
   "execution_count": 11,
   "metadata": {
    "collapsed": true
   },
   "outputs": [],
   "source": [
    "##2603376 Knowkedge Discovery and Data Mining\n",
    "#Final Project\n",
    "#Data Source: Lending Club Loan Data\n",
    "#https://www.kaggle.com/erykwalczak/d/wendykan/lending-club-loan-data/initial-loan-book-analysis\n",
    "#Tanawit Pattanaveerangkoon"
   ]
  },
  {
   "cell_type": "code",
   "execution_count": 12,
   "metadata": {
    "collapsed": true
   },
   "outputs": [],
   "source": [
    "rawdata <- read.csv(\"loan.csv\")"
   ]
  },
  {
   "cell_type": "code",
   "execution_count": 53,
   "metadata": {
    "collapsed": false
   },
   "outputs": [],
   "source": [
    "library(caret)\n",
    "library(caTools)\n",
    "library(dplyr)\n",
    "library(randomForest)\n",
    "library(pROC)"
   ]
  },
  {
   "cell_type": "code",
   "execution_count": 54,
   "metadata": {
    "collapsed": false
   },
   "outputs": [
    {
     "data": {
      "text/html": [
       "887379"
      ],
      "text/latex": [
       "887379"
      ],
      "text/markdown": [
       "887379"
      ],
      "text/plain": [
       "[1] 887379"
      ]
     },
     "metadata": {},
     "output_type": "display_data"
    }
   ],
   "source": [
    "nrow(rawdata)"
   ]
  },
  {
   "cell_type": "code",
   "execution_count": 55,
   "metadata": {
    "collapsed": true
   },
   "outputs": [],
   "source": [
    "loan <- rawdata"
   ]
  },
  {
   "cell_type": "code",
   "execution_count": 56,
   "metadata": {
    "collapsed": false
   },
   "outputs": [
    {
     "data": {
      "text/plain": [
       "       id             member_id          loan_amnt      funded_amnt   \n",
       " Min.   :   54734   Min.   :   70473   Min.   :  500   Min.   :  500  \n",
       " 1st Qu.: 9206643   1st Qu.:10877134   1st Qu.: 8000   1st Qu.: 8000  \n",
       " Median :34433267   Median :37095283   Median :13000   Median :13000  \n",
       " Mean   :32465133   Mean   :35001825   Mean   :14755   Mean   :14742  \n",
       " 3rd Qu.:54908135   3rd Qu.:58471347   3rd Qu.:20000   3rd Qu.:20000  \n",
       " Max.   :68617057   Max.   :73544841   Max.   :35000   Max.   :35000  \n",
       "                                                                      \n",
       " funded_amnt_inv         term           int_rate      installment     \n",
       " Min.   :    0    36 months:621125   Min.   : 5.32   Min.   :  15.67  \n",
       " 1st Qu.: 8000    60 months:266254   1st Qu.: 9.99   1st Qu.: 260.70  \n",
       " Median :13000                       Median :12.99   Median : 382.55  \n",
       " Mean   :14702                       Mean   :13.25   Mean   : 436.72  \n",
       " 3rd Qu.:20000                       3rd Qu.:16.20   3rd Qu.: 572.60  \n",
       " Max.   :35000                       Max.   :28.99   Max.   :1445.46  \n",
       "                                                                      \n",
       " grade        sub_grade                 emp_title          emp_length    \n",
       " A:148202   B3     : 56323                   : 51457   10+ years:291569  \n",
       " B:254535   B4     : 55626   Teacher         : 13469   2 years  : 78870  \n",
       " C:245860   C1     : 53387   Manager         : 11240   < 1 year : 70605  \n",
       " D:139542   C2     : 52236   Registered Nurse:  5525   3 years  : 70026  \n",
       " E: 70705   C3     : 50161   Owner           :  5376   1 year   : 57095  \n",
       " F: 23046   C4     : 48857   RN              :  5355   5 years  : 55704  \n",
       " G:  5489   (Other):570789   (Other)         :794957   (Other)  :263510  \n",
       "  home_ownership     annual_inc           verification_status     issue_d      \n",
       " ANY     :     3   Min.   :      0   Not Verified   :266750   Oct-2015: 48631  \n",
       " MORTGAGE:443557   1st Qu.:  45000   Source Verified:329558   Jul-2015: 45962  \n",
       " NONE    :    50   Median :  65000   Verified       :291071   Dec-2015: 44342  \n",
       " OTHER   :   182   Mean   :  75028                            Oct-2014: 38782  \n",
       " OWN     : 87470   3rd Qu.:  90000                            Nov-2015: 37530  \n",
       " RENT    :356117   Max.   :9500000                            Aug-2015: 35886  \n",
       "                   NA's   :4                                  (Other) :636246  \n",
       "             loan_status     pymnt_plan\n",
       " Current           :601779   n:887369  \n",
       " Fully Paid        :207723   y:    10  \n",
       " Charged Off       : 45248             \n",
       " Late (31-120 days): 11591             \n",
       " Issued            :  8460             \n",
       " In Grace Period   :  6253             \n",
       " (Other)           :  6325             \n",
       "                                                                   url        \n",
       " https://www.lendingclub.com/browse/loanDetail.action?loan_id=1000007:     1  \n",
       " https://www.lendingclub.com/browse/loanDetail.action?loan_id=1000030:     1  \n",
       " https://www.lendingclub.com/browse/loanDetail.action?loan_id=1000033:     1  \n",
       " https://www.lendingclub.com/browse/loanDetail.action?loan_id=1000045:     1  \n",
       " https://www.lendingclub.com/browse/loanDetail.action?loan_id=1000067:     1  \n",
       " https://www.lendingclub.com/browse/loanDetail.action?loan_id=1000095:     1  \n",
       " (Other)                                                             :887373  \n",
       "                                                    desc       \n",
       "                                                      :761350  \n",
       "                                                      :   246  \n",
       " Debt Consolidation                                   :    13  \n",
       "   Borrower added on 03/17/14 > Debt consolidation<br>:    11  \n",
       "   Borrower added on 03/10/14 > Debt consolidation<br>:    10  \n",
       "   Borrower added on 02/19/14 > Debt consolidation<br>:     9  \n",
       " (Other)                                              :125740  \n",
       "               purpose                           title           zip_code     \n",
       " debt_consolidation:524215   Debt consolidation     :414001   945xx  :  9770  \n",
       " credit_card       :206182   Credit card refinancing:164331   750xx  :  9417  \n",
       " home_improvement  : 51829   Home improvement       : 40112   112xx  :  9272  \n",
       " other             : 42894   Other                  : 31892   606xx  :  8641  \n",
       " major_purchase    : 17277   Debt Consolidation     : 15760   300xx  :  8126  \n",
       " small_business    : 10377   Major purchase         : 12051   100xx  :  7609  \n",
       " (Other)           : 34605   (Other)                :209232   (Other):834544  \n",
       "   addr_state          dti           delinq_2yrs      earliest_cr_line \n",
       " CA     :129517   Min.   :   0.00   Min.   : 0.0000   Aug-2001:  6659  \n",
       " NY     : 74086   1st Qu.:  11.91   1st Qu.: 0.0000   Aug-2000:  6529  \n",
       " TX     : 71138   Median :  17.65   Median : 0.0000   Oct-2000:  6322  \n",
       " FL     : 60935   Mean   :  18.16   Mean   : 0.3144   Oct-2001:  6154  \n",
       " IL     : 35476   3rd Qu.:  23.95   3rd Qu.: 0.0000   Aug-2002:  6086  \n",
       " NJ     : 33256   Max.   :9999.00   Max.   :39.0000   Sep-2000:  5918  \n",
       " (Other):482971                     NA's   :29        (Other) :849711  \n",
       " inq_last_6mths    mths_since_last_delinq mths_since_last_record\n",
       " Min.   : 0.0000   Min.   :  0.0          Min.   :  0.0         \n",
       " 1st Qu.: 0.0000   1st Qu.: 15.0          1st Qu.: 51.0         \n",
       " Median : 0.0000   Median : 31.0          Median : 70.0         \n",
       " Mean   : 0.6946   Mean   : 34.1          Mean   : 70.1         \n",
       " 3rd Qu.: 1.0000   3rd Qu.: 50.0          3rd Qu.: 92.0         \n",
       " Max.   :33.0000   Max.   :188.0          Max.   :129.0         \n",
       " NA's   :29        NA's   :454312         NA's   :750326        \n",
       "    open_acc        pub_rec          revol_bal         revol_util    \n",
       " Min.   : 0.00   Min.   : 0.0000   Min.   :      0   Min.   :  0.00  \n",
       " 1st Qu.: 8.00   1st Qu.: 0.0000   1st Qu.:   6443   1st Qu.: 37.70  \n",
       " Median :11.00   Median : 0.0000   Median :  11875   Median : 56.00  \n",
       " Mean   :11.55   Mean   : 0.1953   Mean   :  16921   Mean   : 55.07  \n",
       " 3rd Qu.:14.00   3rd Qu.: 0.0000   3rd Qu.:  20829   3rd Qu.: 73.60  \n",
       " Max.   :90.00   Max.   :86.0000   Max.   :2904836   Max.   :892.30  \n",
       " NA's   :29      NA's   :29                          NA's   :502     \n",
       "   total_acc      initial_list_status   out_prncp     out_prncp_inv  \n",
       " Min.   :  1.00   f:456848            Min.   :    0   Min.   :    0  \n",
       " 1st Qu.: 17.00   w:430531            1st Qu.:    0   1st Qu.:    0  \n",
       " Median : 24.00                       Median : 6458   Median : 6456  \n",
       " Mean   : 25.27                       Mean   : 8403   Mean   : 8400  \n",
       " 3rd Qu.: 32.00                       3rd Qu.:13659   3rd Qu.:13654  \n",
       " Max.   :169.00                       Max.   :49373   Max.   :49373  \n",
       " NA's   :29                                                          \n",
       "  total_pymnt    total_pymnt_inv total_rec_prncp total_rec_int    \n",
       " Min.   :    0   Min.   :    0   Min.   :    0   Min.   :    0.0  \n",
       " 1st Qu.: 1915   1st Qu.: 1900   1st Qu.: 1201   1st Qu.:  441.5  \n",
       " Median : 4895   Median : 4862   Median : 3215   Median : 1073.3  \n",
       " Mean   : 7559   Mean   : 7521   Mean   : 5758   Mean   : 1754.8  \n",
       " 3rd Qu.:10617   3rd Qu.:10566   3rd Qu.: 8000   3rd Qu.: 2238.3  \n",
       " Max.   :57778   Max.   :57778   Max.   :35000   Max.   :24205.6  \n",
       "                                                                  \n",
       " total_rec_late_fee   recoveries       collection_recovery_fee\n",
       " Min.   :  0.0000   Min.   :    0.00   Min.   :   0.000       \n",
       " 1st Qu.:  0.0000   1st Qu.:    0.00   1st Qu.:   0.000       \n",
       " Median :  0.0000   Median :    0.00   Median :   0.000       \n",
       " Mean   :  0.3967   Mean   :   45.92   Mean   :   4.881       \n",
       " 3rd Qu.:  0.0000   3rd Qu.:    0.00   3rd Qu.:   0.000       \n",
       " Max.   :358.6800   Max.   :33520.27   Max.   :7002.190       \n",
       "                                                              \n",
       "   last_pymnt_d    last_pymnt_amnt     next_pymnt_d    last_credit_pull_d\n",
       " Jan-2016:470150   Min.   :    0.0   Feb-2016:553406   Jan-2016:730574   \n",
       " Dec-2015:150861   1st Qu.:  280.2           :252971   Dec-2015: 19308   \n",
       "         : 17659   Median :  462.8   Jan-2016: 78195   Nov-2015: 11490   \n",
       " Oct-2015: 16000   Mean   : 2164.2   Mar-2011:   107   Oct-2015: 10419   \n",
       " Jul-2015: 14483   3rd Qu.:  831.2   Apr-2011:   101   Sep-2015: 10087   \n",
       " Nov-2015: 13981   Max.   :36475.6   Feb-2011:    91   Jul-2015:  8642   \n",
       " (Other) :204245                     (Other) :  2508   (Other) : 96859   \n",
       " collections_12_mths_ex_med mths_since_last_major_derog  policy_code\n",
       " Min.   : 0.00000           Min.   :  0.0               Min.   :1   \n",
       " 1st Qu.: 0.00000           1st Qu.: 27.0               1st Qu.:1   \n",
       " Median : 0.00000           Median : 44.0               Median :1   \n",
       " Mean   : 0.01438           Mean   : 44.1               Mean   :1   \n",
       " 3rd Qu.: 0.00000           3rd Qu.: 61.0               3rd Qu.:1   \n",
       " Max.   :20.00000           Max.   :188.0               Max.   :1   \n",
       " NA's   :145                NA's   :665676                          \n",
       "   application_type  annual_inc_joint   dti_joint     \n",
       " INDIVIDUAL:886868   Min.   : 17950   Min.   : 3.0    \n",
       " JOINT     :   511   1st Qu.: 76033   1st Qu.:13.2    \n",
       "                     Median :101771   Median :17.6    \n",
       "                     Mean   :109981   Mean   :18.3    \n",
       "                     3rd Qu.:132800   3rd Qu.:22.6    \n",
       "                     Max.   :500000   Max.   :43.9    \n",
       "                     NA's   :886868   NA's   :886870  \n",
       "   verification_status_joint acc_now_delinq       tot_coll_amt    \n",
       "                :886868      Min.   : 0.000000   Min.   :      0  \n",
       " Not Verified   :   283      1st Qu.: 0.000000   1st Qu.:      0  \n",
       " Source Verified:    61      Median : 0.000000   Median :      0  \n",
       " Verified       :   167      Mean   : 0.004991   Mean   :    226  \n",
       "                             3rd Qu.: 0.000000   3rd Qu.:      0  \n",
       "                             Max.   :14.000000   Max.   :9152545  \n",
       "                             NA's   :29          NA's   :70276    \n",
       "  tot_cur_bal       open_acc_6m       open_il_6m      open_il_12m    \n",
       " Min.   :      0   Min.   : 0.0     Min.   : 0.0     Min.   : 0.0    \n",
       " 1st Qu.:  29853   1st Qu.: 0.0     1st Qu.: 1.0     1st Qu.: 0.0    \n",
       " Median :  80559   Median : 1.0     Median : 2.0     Median : 0.0    \n",
       " Mean   : 139458   Mean   : 1.1     Mean   : 2.9     Mean   : 0.8    \n",
       " 3rd Qu.: 208205   3rd Qu.: 2.0     3rd Qu.: 4.0     3rd Qu.: 1.0    \n",
       " Max.   :8000078   Max.   :14.0     Max.   :40.0     Max.   :12.0    \n",
       " NA's   :70276     NA's   :866007   NA's   :866007   NA's   :866007  \n",
       "  open_il_24m     mths_since_rcnt_il  total_bal_il       il_util      \n",
       " Min.   : 0.0     Min.   :  0.0      Min.   :     0   Min.   :  0.0   \n",
       " 1st Qu.: 0.0     1st Qu.:  6.0      1st Qu.: 10252   1st Qu.: 58.6   \n",
       " Median : 1.0     Median : 12.0      Median : 24685   Median : 74.9   \n",
       " Mean   : 1.7     Mean   : 20.9      Mean   : 36553   Mean   : 71.5   \n",
       " 3rd Qu.: 2.0     3rd Qu.: 23.0      3rd Qu.: 47858   3rd Qu.: 87.6   \n",
       " Max.   :19.0     Max.   :363.0      Max.   :878459   Max.   :223.3   \n",
       " NA's   :866007   NA's   :866569     NA's   :866007   NA's   :868762  \n",
       "  open_rv_12m      open_rv_24m       max_bal_bc        all_util     \n",
       " Min.   : 0.0     Min.   : 0       Min.   :     0   Min.   :  0.0   \n",
       " 1st Qu.: 0.0     1st Qu.: 1       1st Qu.:  2411   1st Qu.: 47.7   \n",
       " Median : 1.0     Median : 2       Median :  4483   Median : 61.9   \n",
       " Mean   : 1.4     Mean   : 3       Mean   :  5888   Mean   : 60.8   \n",
       " 3rd Qu.: 2.0     3rd Qu.: 4       3rd Qu.:  7772   3rd Qu.: 75.2   \n",
       " Max.   :22.0     Max.   :43       Max.   :127305   Max.   :151.4   \n",
       " NA's   :866007   NA's   :866007   NA's   :866007   NA's   :866007  \n",
       " total_rev_hi_lim      inq_fi        total_cu_tl      inq_last_12m   \n",
       " Min.   :      0   Min.   : 0.0     Min.   : 0.0     Min.   :-4      \n",
       " 1st Qu.:  13900   1st Qu.: 0.0     1st Qu.: 0.0     1st Qu.: 0      \n",
       " Median :  23700   Median : 0.0     Median : 0.0     Median : 2      \n",
       " Mean   :  32069   Mean   : 0.9     Mean   : 1.5     Mean   : 2      \n",
       " 3rd Qu.:  39800   3rd Qu.: 1.0     3rd Qu.: 2.0     3rd Qu.: 3      \n",
       " Max.   :9999999   Max.   :17.0     Max.   :35.0     Max.   :32      \n",
       " NA's   :70276     NA's   :866007   NA's   :866007   NA's   :866007  "
      ]
     },
     "metadata": {},
     "output_type": "display_data"
    }
   ],
   "source": [
    "summary(loan)"
   ]
  },
  {
   "cell_type": "code",
   "execution_count": 57,
   "metadata": {
    "collapsed": false
   },
   "outputs": [
    {
     "data": {
      "text/html": [
       "<ol class=list-inline>\n",
       "\t<li>Fully Paid</li>\n",
       "\t<li>Charged Off</li>\n",
       "\t<li>Current</li>\n",
       "\t<li>Default</li>\n",
       "\t<li>Late (31-120 days)</li>\n",
       "\t<li>In Grace Period</li>\n",
       "\t<li>Late (16-30 days)</li>\n",
       "\t<li>Does not meet the credit policy. Status:Fully Paid</li>\n",
       "\t<li>Does not meet the credit policy. Status:Charged Off</li>\n",
       "\t<li>Issued</li>\n",
       "</ol>\n"
      ],
      "text/latex": [
       "\\begin{enumerate*}\n",
       "\\item Fully Paid\n",
       "\\item Charged Off\n",
       "\\item Current\n",
       "\\item Default\n",
       "\\item Late (31-120 days)\n",
       "\\item In Grace Period\n",
       "\\item Late (16-30 days)\n",
       "\\item Does not meet the credit policy. Status:Fully Paid\n",
       "\\item Does not meet the credit policy. Status:Charged Off\n",
       "\\item Issued\n",
       "\\end{enumerate*}\n"
      ],
      "text/markdown": [
       "1. Fully Paid\n",
       "2. Charged Off\n",
       "3. Current\n",
       "4. Default\n",
       "5. Late (31-120 days)\n",
       "6. In Grace Period\n",
       "7. Late (16-30 days)\n",
       "8. Does not meet the credit policy. Status:Fully Paid\n",
       "9. Does not meet the credit policy. Status:Charged Off\n",
       "10. Issued\n",
       "\n",
       "\n"
      ],
      "text/plain": [
       " [1] Fully Paid                                         \n",
       " [2] Charged Off                                        \n",
       " [3] Current                                            \n",
       " [4] Default                                            \n",
       " [5] Late (31-120 days)                                 \n",
       " [6] In Grace Period                                    \n",
       " [7] Late (16-30 days)                                  \n",
       " [8] Does not meet the credit policy. Status:Fully Paid \n",
       " [9] Does not meet the credit policy. Status:Charged Off\n",
       "[10] Issued                                             \n",
       "10 Levels: Charged Off Current ... Late (31-120 days)"
      ]
     },
     "metadata": {},
     "output_type": "display_data"
    }
   ],
   "source": [
    "unique(loan$loan_status)"
   ]
  },
  {
   "cell_type": "code",
   "execution_count": 58,
   "metadata": {
    "collapsed": false
   },
   "outputs": [],
   "source": [
    "loan$is_bad[loan$loan_status==\"Charged Off\"] <- 0\n",
    "loan$is_bad[loan$loan_status==\"Default\"] <- 0\n",
    "loan$is_bad[loan$loan_status==\"Does not meet the credit policy. Status:Charged Off\"] <- 0\n",
    "loan$is_bad[loan$loan_status==\"In Grace Period\"] <- 0\n",
    "loan$is_bad[loan$loan_status==\"Default Receiver\"] <- 0\n",
    "loan$is_bad[loan$loan_status==\"Late (16-30 days)\"] <- 0\n",
    "loan$is_bad[loan$loan_status==\"Late (31-120 days)\"] <- 0\n",
    "\n",
    "loan$is_bad[loan$loan_status==\"Fully Paid\"] <- 1\n",
    "loan$is_bad[loan$loan_status==\"Current\"] <- 1\n",
    "loan$is_bad[loan$loan_status==\"Does not meet the credit policy. Status:Fully Paid\"] <- 1\n",
    "loan$is_bad[loan$loan_status==\"Issued\"] <- 1\n",
    "\n",
    "loan <- subset(loan, ! is.na(loan$loan_status))"
   ]
  },
  {
   "cell_type": "code",
   "execution_count": 59,
   "metadata": {
    "collapsed": false
   },
   "outputs": [
    {
     "data": {
      "text/html": [
       "<dl class=dl-horizontal>\n",
       "\t<dt>0</dt>\n",
       "\t\t<dd>67429</dd>\n",
       "\t<dt>1</dt>\n",
       "\t\t<dd>819950</dd>\n",
       "</dl>\n"
      ],
      "text/latex": [
       "\\begin{description*}\n",
       "\\item[0] 67429\n",
       "\\item[1] 819950\n",
       "\\end{description*}\n"
      ],
      "text/markdown": [
       "0\n",
       ":   674291\n",
       ":   819950\n",
       "\n"
      ],
      "text/plain": [
       "     0      1 \n",
       " 67429 819950 "
      ]
     },
     "metadata": {},
     "output_type": "display_data"
    }
   ],
   "source": [
    "summary(as.factor(loan$is_bad))"
   ]
  },
  {
   "cell_type": "code",
   "execution_count": 60,
   "metadata": {
    "collapsed": true
   },
   "outputs": [],
   "source": [
    "bad <- loan[loan$is_bad == 0, ]\n",
    "notbad <- loan[loan$is_bad == 1, ]"
   ]
  },
  {
   "cell_type": "code",
   "execution_count": 61,
   "metadata": {
    "collapsed": true
   },
   "outputs": [],
   "source": [
    "notbad <- sample_n(notbad, nrow(bad))"
   ]
  },
  {
   "cell_type": "code",
   "execution_count": 62,
   "metadata": {
    "collapsed": false
   },
   "outputs": [
    {
     "data": {
      "text/html": [
       "67429"
      ],
      "text/latex": [
       "67429"
      ],
      "text/markdown": [
       "67429"
      ],
      "text/plain": [
       "[1] 67429"
      ]
     },
     "metadata": {},
     "output_type": "display_data"
    },
    {
     "data": {
      "text/html": [
       "67429"
      ],
      "text/latex": [
       "67429"
      ],
      "text/markdown": [
       "67429"
      ],
      "text/plain": [
       "[1] 67429"
      ]
     },
     "metadata": {},
     "output_type": "display_data"
    }
   ],
   "source": [
    "nrow(bad)\n",
    "nrow(notbad)"
   ]
  },
  {
   "cell_type": "code",
   "execution_count": 63,
   "metadata": {
    "collapsed": true
   },
   "outputs": [],
   "source": [
    "loan <- rbind(bad, notbad)"
   ]
  },
  {
   "cell_type": "code",
   "execution_count": 64,
   "metadata": {
    "collapsed": false
   },
   "outputs": [],
   "source": [
    "is.na(loan) <- loan == \"\""
   ]
  },
  {
   "cell_type": "code",
   "execution_count": 65,
   "metadata": {
    "collapsed": false
   },
   "outputs": [],
   "source": [
    "# Create date variables that R recognizes as dates\n",
    "loan$issue_d <- as.Date(paste('15', loan$issue_d), format='%d %b-%y')\n",
    "loan$earliest_cr_line <- as.Date(paste('15', loan$earliest_cr_line), format='%d %b-%y')"
   ]
  },
  {
   "cell_type": "code",
   "execution_count": 66,
   "metadata": {
    "collapsed": true
   },
   "outputs": [],
   "source": [
    "# Identify loans that have already come to term\n",
    "loan$term.months <- NA\n",
    "loan$term.months[loan$term==\" 36 months\"] <- 36\n",
    "loan$term.months[loan$term==\" 60 months\"] <- 60\n",
    "# remove the \"term\" variable because it is redundant with the term.months variable\n",
    "loan$term <- NULL "
   ]
  },
  {
   "cell_type": "code",
   "execution_count": 67,
   "metadata": {
    "collapsed": true
   },
   "outputs": [],
   "source": [
    "# Convert character percentages to numeric variables\n",
    "loan$int_rate <- as.numeric(gsub(\"%\" , \"\", loan$int_rate))\n",
    "loan$revol_util <- as.numeric(gsub(\"%\" , \"\", loan$revol_util))"
   ]
  },
  {
   "cell_type": "code",
   "execution_count": 68,
   "metadata": {
    "collapsed": false
   },
   "outputs": [
    {
     "name": "stderr",
     "output_type": "stream",
     "text": [
      "Warning message in eval(expr, envir, enclos):\n",
      "\"NAs introduced by coercion\""
     ]
    }
   ],
   "source": [
    "# Convert character employment length to numeric variable\n",
    "loan$emp_length <- gsub(\" years\" , \"\", loan$emp_length)\n",
    "loan$emp_length <- gsub(\" year\" , \"\", loan$emp_length)\n",
    "loan$emp_length <- ifelse(loan$emp_length == \"10+\", 10, loan$emp_length)\n",
    "loan$emp_length <- ifelse(loan$emp_length == \"< 1\", 0.5, loan$emp_length)\n",
    "loan$emp_length <- as.numeric(loan$emp_length)"
   ]
  },
  {
   "cell_type": "code",
   "execution_count": 69,
   "metadata": {
    "collapsed": true
   },
   "outputs": [],
   "source": [
    "# Convert character to ordinal variable\n",
    "loan$grade[loan$grade == \"\"] <- NA\n",
    "loan$grade <- ordered(loan$grade)"
   ]
  },
  {
   "cell_type": "code",
   "execution_count": 70,
   "metadata": {
    "collapsed": false
   },
   "outputs": [],
   "source": [
    "# Remove variables where more than 20% of the observations are missing values\n",
    "loan <- loan[, colMeans(is.na(loan)) <= .20]"
   ]
  },
  {
   "cell_type": "code",
   "execution_count": 71,
   "metadata": {
    "collapsed": true
   },
   "outputs": [],
   "source": [
    "# Remove factor vars with too many levels\n",
    "too.many.levels <- function(x) {\n",
    "    is.factor(x) == TRUE & length(levels(x)) > 32\n",
    "}\n",
    "delete <- lapply(loan, too.many.levels)\n",
    "loan <- loan[, delete == FALSE]\n",
    "remove(too.many.levels, delete)"
   ]
  },
  {
   "cell_type": "code",
   "execution_count": 72,
   "metadata": {
    "collapsed": false
   },
   "outputs": [],
   "source": [
    "# Calculate the percentage of loan paid back\n",
    "loan$paid.back <- (loan$funded_amnt - loan$out_prncp)/loan$funded_amnt\n",
    "\n",
    "# Remove missing\n",
    "loan <- subset(loan, ! is.na(loan$paid.back))"
   ]
  },
  {
   "cell_type": "code",
   "execution_count": 73,
   "metadata": {
    "collapsed": false
   },
   "outputs": [],
   "source": [
    "# Remove variables where all values are the same\n",
    "loan <- loan[sapply(loan, function(x) length(levels(factor(x)))>1)]"
   ]
  },
  {
   "cell_type": "code",
   "execution_count": 74,
   "metadata": {
    "collapsed": false
   },
   "outputs": [
    {
     "data": {
      "text/html": [
       "134858"
      ],
      "text/latex": [
       "134858"
      ],
      "text/markdown": [
       "134858"
      ],
      "text/plain": [
       "[1] 134858"
      ]
     },
     "metadata": {},
     "output_type": "display_data"
    }
   ],
   "source": [
    "nrow(loan)"
   ]
  },
  {
   "cell_type": "code",
   "execution_count": 75,
   "metadata": {
    "collapsed": false
   },
   "outputs": [],
   "source": [
    "#loan <- sample_n(loan, 25000)\n",
    "#nrow(loan)"
   ]
  },
  {
   "cell_type": "code",
   "execution_count": 76,
   "metadata": {
    "collapsed": false
   },
   "outputs": [
    {
     "data": {
      "text/html": [
       "<dl class=dl-horizontal>\n",
       "\t<dt>0</dt>\n",
       "\t\t<dd>67429</dd>\n",
       "\t<dt>1</dt>\n",
       "\t\t<dd>67429</dd>\n",
       "</dl>\n"
      ],
      "text/latex": [
       "\\begin{description*}\n",
       "\\item[0] 67429\n",
       "\\item[1] 67429\n",
       "\\end{description*}\n"
      ],
      "text/markdown": [
       "0\n",
       ":   674291\n",
       ":   67429\n",
       "\n"
      ],
      "text/plain": [
       "    0     1 \n",
       "67429 67429 "
      ]
     },
     "metadata": {},
     "output_type": "display_data"
    }
   ],
   "source": [
    "loan$loan_status <- NULL\n",
    "loan$id <- NULL\n",
    "\n",
    "loan$is_bad <- as.factor(loan$is_bad)\n",
    "summary(loan$is_bad)"
   ]
  },
  {
   "cell_type": "code",
   "execution_count": 77,
   "metadata": {
    "collapsed": false
   },
   "outputs": [],
   "source": [
    "set.seed(2017)\n",
    "\n",
    "indextrain <- sample(2,nrow(loan),replace = T,prob =c(0.8,0.2))\n",
    "\n",
    "train <- loan[indextrain==1,-1]\n",
    "test <- loan[indextrain==2,-1]"
   ]
  },
  {
   "cell_type": "code",
   "execution_count": 78,
   "metadata": {
    "collapsed": true
   },
   "outputs": [],
   "source": [
    "train$member_id <- NULL\n",
    "test$member_id <- NULL"
   ]
  },
  {
   "cell_type": "code",
   "execution_count": 79,
   "metadata": {
    "collapsed": false
   },
   "outputs": [
    {
     "data": {
      "text/plain": [
       "   loan_amnt      funded_amnt    funded_amnt_inv    int_rate    \n",
       " Min.   :  500   Min.   :  500   Min.   :    0   Min.   : 5.32  \n",
       " 1st Qu.: 8000   1st Qu.: 8000   1st Qu.: 8000   1st Qu.:11.36  \n",
       " Median :13000   Median :13000   Median :13000   Median :14.16  \n",
       " Mean   :14780   Mean   :14757   Mean   :14681   Mean   :14.46  \n",
       " 3rd Qu.:20000   3rd Qu.:20000   3rd Qu.:20000   3rd Qu.:17.57  \n",
       " Max.   :35000   Max.   :35000   Max.   :35000   Max.   :28.99  \n",
       "                                                                \n",
       "  installment      grade       emp_length      home_ownership \n",
       " Min.   :  15.91   A:12604   Min.   : 0.500   ANY     :    1  \n",
       " 1st Qu.: 264.73   B:26589   1st Qu.: 2.000   MORTGAGE:51034  \n",
       " Median : 387.84   C:30076   Median : 6.000   NONE    :    8  \n",
       " Mean   : 441.56   D:20963   Mean   : 5.946   OTHER   :   34  \n",
       " 3rd Qu.: 575.70   E:11718   3rd Qu.:10.000   OWN     :10364  \n",
       " Max.   :1408.13   F: 4701   Max.   :10.000   RENT    :46492  \n",
       "                   G: 1282   NA's   :5662                     \n",
       "   annual_inc           verification_status    issue_d           pymnt_plan\n",
       " Min.   :      0   Not Verified   :30430    Min.   :2020-01-15   n:107928  \n",
       " 1st Qu.:  44000   Source Verified:38347    1st Qu.:2020-04-15   y:     5  \n",
       " Median :  60000   Verified       :39156    Median :2020-07-15             \n",
       " Mean   :  71187                            Mean   :2020-07-08             \n",
       " 3rd Qu.:  85000                            3rd Qu.:2020-10-15             \n",
       " Max.   :8900060                            Max.   :2020-12-15             \n",
       "                                                                           \n",
       "               purpose           dti           delinq_2yrs   \n",
       " debt_consolidation:65220   Min.   :   0.00   Min.   : 0.00  \n",
       " credit_card       :22227   1st Qu.:  12.36   1st Qu.: 0.00  \n",
       " home_improvement  : 5988   Median :  18.13   Median : 0.00  \n",
       " other             : 5780   Mean   :  18.54   Mean   : 0.32  \n",
       " major_purchase    : 2083   3rd Qu.:  24.25   3rd Qu.: 0.00  \n",
       " small_business    : 2003   Max.   :9999.00   Max.   :30.00  \n",
       " (Other)           : 4632                     NA's   :5      \n",
       " earliest_cr_line     inq_last_6mths      open_acc        pub_rec      \n",
       " Min.   :2019-01-15   Min.   : 0.000   Min.   : 0.00   Min.   : 0.000  \n",
       " 1st Qu.:2019-07-15   1st Qu.: 0.000   1st Qu.: 8.00   1st Qu.: 0.000  \n",
       " Median :2019-12-15   Median : 0.000   Median :11.00   Median : 0.000  \n",
       " Mean   :2020-01-01   Mean   : 0.822   Mean   :11.39   Mean   : 0.184  \n",
       " 3rd Qu.:2020-07-15   3rd Qu.: 1.000   3rd Qu.:14.00   3rd Qu.: 0.000  \n",
       " Max.   :2020-12-15   Max.   :33.000   Max.   :76.00   Max.   :21.000  \n",
       " NA's   :5            NA's   :5        NA's   :5       NA's   :5       \n",
       "   revol_bal         revol_util       total_acc      initial_list_status\n",
       " Min.   :      0   Min.   :  0.00   Min.   :  1.00   f:63185            \n",
       " 1st Qu.:   6292   1st Qu.: 39.80   1st Qu.: 16.00   w:44748            \n",
       " Median :  11549   Median : 58.30   Median : 23.00                      \n",
       " Mean   :  16123   Mean   : 56.94   Mean   : 24.92                      \n",
       " 3rd Qu.:  20032   3rd Qu.: 75.70   3rd Qu.: 32.00                      \n",
       " Max.   :1746716   Max.   :366.60   Max.   :130.00                      \n",
       "                   NA's   :80       NA's   :5                           \n",
       "   out_prncp     out_prncp_inv    total_pymnt    total_pymnt_inv\n",
       " Min.   :    0   Min.   :    0   Min.   :    0   Min.   :    0  \n",
       " 1st Qu.:    0   1st Qu.:    0   1st Qu.: 2159   1st Qu.: 2126  \n",
       " Median : 1970   Median : 1970   Median : 4823   Median : 4772  \n",
       " Mean   : 6242   Mean   : 6240   Mean   : 7009   Mean   : 6960  \n",
       " 3rd Qu.:10878   3rd Qu.:10876   3rd Qu.: 9533   3rd Qu.: 9469  \n",
       " Max.   :35000   Max.   :35000   Max.   :54096   Max.   :54096  \n",
       "                                                                \n",
       " total_rec_prncp total_rec_int     total_rec_late_fee   recoveries     \n",
       " Min.   :    0   Min.   :    0.0   Min.   :  0.000    Min.   :    0.0  \n",
       " 1st Qu.: 1175   1st Qu.:  545.7   1st Qu.:  0.000    1st Qu.:    0.0  \n",
       " Median : 2762   Median : 1252.4   Median :  0.000    Median :    0.0  \n",
       " Mean   : 4736   Mean   : 1968.5   Mean   :  1.472    Mean   :  302.8  \n",
       " 3rd Qu.: 6037   3rd Qu.: 2523.0   3rd Qu.:  0.000    3rd Qu.:    0.0  \n",
       " Max.   :35000   Max.   :22401.8   Max.   :358.680    Max.   :33520.3  \n",
       "                                                                       \n",
       " collection_recovery_fee last_pymnt_amnt   collections_12_mths_ex_med\n",
       " Min.   :   0.00         Min.   :    0.0   Min.   : 0.00000          \n",
       " 1st Qu.:   0.00         1st Qu.:  266.2   1st Qu.: 0.00000          \n",
       " Median :   0.00         Median :  417.8   Median : 0.00000          \n",
       " Mean   :  32.25         Mean   : 1394.8   Mean   : 0.01304          \n",
       " 3rd Qu.:   0.00         3rd Qu.:  677.9   3rd Qu.: 0.00000          \n",
       " Max.   :7002.19         Max.   :35813.8   Max.   :14.00000          \n",
       "                                           NA's   :33                \n",
       "   application_type  acc_now_delinq       tot_coll_amt       tot_cur_bal     \n",
       " INDIVIDUAL:107891   Min.   : 0.000000   Min.   :     0.0   Min.   :      0  \n",
       " JOINT     :    42   1st Qu.: 0.000000   1st Qu.:     0.0   1st Qu.:  28255  \n",
       "                     Median : 0.000000   Median :     0.0   Median :  70578  \n",
       "                     Mean   : 0.005291   Mean   :   192.8   Mean   : 129626  \n",
       "                     3rd Qu.: 0.000000   3rd Qu.:     0.0   3rd Qu.: 194001  \n",
       "                     Max.   :14.000000   Max.   :117800.0   Max.   :3796811  \n",
       "                     NA's   :5           NA's   :12680      NA's   :12680    \n",
       " total_rev_hi_lim  is_bad     term.months      paid.back     \n",
       " Min.   :      0   0:53851   Min.   :36.00   Min.   :0.0000  \n",
       " 1st Qu.:  13100   1:54082   1st Qu.:36.00   1st Qu.:0.1685  \n",
       " Median :  22100             Median :36.00   Median :0.7041  \n",
       " Mean   :  29602             Mean   :43.88   Mean   :0.6017  \n",
       " 3rd Qu.:  36700             3rd Qu.:60.00   3rd Qu.:1.0000  \n",
       " Max.   :1998700             Max.   :60.00   Max.   :1.0000  \n",
       " NA's   :12680                                               "
      ]
     },
     "metadata": {},
     "output_type": "display_data"
    }
   ],
   "source": [
    "summary(train)"
   ]
  },
  {
   "cell_type": "code",
   "execution_count": 80,
   "metadata": {
    "collapsed": false
   },
   "outputs": [
    {
     "data": {
      "text/html": [
       "107933"
      ],
      "text/latex": [
       "107933"
      ],
      "text/markdown": [
       "107933"
      ],
      "text/plain": [
       "[1] 107933"
      ]
     },
     "metadata": {},
     "output_type": "display_data"
    },
    {
     "data": {
      "text/html": [
       "26925"
      ],
      "text/latex": [
       "26925"
      ],
      "text/markdown": [
       "26925"
      ],
      "text/plain": [
       "[1] 26925"
      ]
     },
     "metadata": {},
     "output_type": "display_data"
    }
   ],
   "source": [
    "nrow(train)\n",
    "nrow(test)\n"
   ]
  },
  {
   "cell_type": "code",
   "execution_count": 81,
   "metadata": {
    "collapsed": false
   },
   "outputs": [],
   "source": [
    "rf.model <- randomForest(factor(is_bad) ~ .,data = train, ntree = 150, type=\"response\", importance=TRUE, na.action=na.omit)"
   ]
  },
  {
   "cell_type": "code",
   "execution_count": 82,
   "metadata": {
    "collapsed": false
   },
   "outputs": [
    {
     "data": {
      "image/png": "[encoded data removed]",
      "text/plain": [
       "Plot with title \"rf.model\""
      ]
     },
     "metadata": {},
     "output_type": "display_data"
    }
   ],
   "source": [
    "layout(matrix(c(1,2),nrow=1),\n",
    "       width=c(4,1)) \n",
    "par(mar=c(5,4,4,0))\n",
    "plot(rf.model)\n",
    "par(mar=c(5,0,4,2))\n",
    "plot(c(0,1),type=\"n\", axes=F, xlab=\"\", ylab=\"\")\n",
    "legend(\"top\", colnames(rf.model$err.rate),col=1:4,cex=0.8,fill=1:4)"
   ]
  },
  {
   "cell_type": "code",
   "execution_count": 83,
   "metadata": {
    "collapsed": false
   },
   "outputs": [
    {
     "data": {
      "text/html": [
       "<ol class=list-inline>\n",
       "\t<li>'loan_amnt'</li>\n",
       "\t<li>'funded_amnt'</li>\n",
       "\t<li>'funded_amnt_inv'</li>\n",
       "\t<li>'int_rate'</li>\n",
       "\t<li>'installment'</li>\n",
       "\t<li>'grade'</li>\n",
       "\t<li>'emp_length'</li>\n",
       "\t<li>'home_ownership'</li>\n",
       "\t<li>'annual_inc'</li>\n",
       "\t<li>'verification_status'</li>\n",
       "\t<li>'issue_d'</li>\n",
       "\t<li>'pymnt_plan'</li>\n",
       "\t<li>'purpose'</li>\n",
       "\t<li>'dti'</li>\n",
       "\t<li>'delinq_2yrs'</li>\n",
       "\t<li>'earliest_cr_line'</li>\n",
       "\t<li>'inq_last_6mths'</li>\n",
       "\t<li>'open_acc'</li>\n",
       "\t<li>'pub_rec'</li>\n",
       "\t<li>'revol_bal'</li>\n",
       "\t<li>'revol_util'</li>\n",
       "\t<li>'total_acc'</li>\n",
       "\t<li>'initial_list_status'</li>\n",
       "\t<li>'out_prncp'</li>\n",
       "\t<li>'out_prncp_inv'</li>\n",
       "\t<li>'total_pymnt'</li>\n",
       "\t<li>'total_pymnt_inv'</li>\n",
       "\t<li>'total_rec_prncp'</li>\n",
       "\t<li>'total_rec_int'</li>\n",
       "\t<li>'total_rec_late_fee'</li>\n",
       "\t<li>'recoveries'</li>\n",
       "\t<li>'collection_recovery_fee'</li>\n",
       "\t<li>'last_pymnt_amnt'</li>\n",
       "\t<li>'collections_12_mths_ex_med'</li>\n",
       "\t<li>'application_type'</li>\n",
       "\t<li>'acc_now_delinq'</li>\n",
       "\t<li>'tot_coll_amt'</li>\n",
       "\t<li>'tot_cur_bal'</li>\n",
       "\t<li>'total_rev_hi_lim'</li>\n",
       "\t<li>'is_bad'</li>\n",
       "\t<li>'term.months'</li>\n",
       "\t<li>'paid.back'</li>\n",
       "</ol>\n"
      ],
      "text/latex": [
       "\\begin{enumerate*}\n",
       "\\item 'loan\\_amnt'\n",
       "\\item 'funded\\_amnt'\n",
       "\\item 'funded\\_amnt\\_inv'\n",
       "\\item 'int\\_rate'\n",
       "\\item 'installment'\n",
       "\\item 'grade'\n",
       "\\item 'emp\\_length'\n",
       "\\item 'home\\_ownership'\n",
       "\\item 'annual\\_inc'\n",
       "\\item 'verification\\_status'\n",
       "\\item 'issue\\_d'\n",
       "\\item 'pymnt\\_plan'\n",
       "\\item 'purpose'\n",
       "\\item 'dti'\n",
       "\\item 'delinq\\_2yrs'\n",
       "\\item 'earliest\\_cr\\_line'\n",
       "\\item 'inq\\_last\\_6mths'\n",
       "\\item 'open\\_acc'\n",
       "\\item 'pub\\_rec'\n",
       "\\item 'revol\\_bal'\n",
       "\\item 'revol\\_util'\n",
       "\\item 'total\\_acc'\n",
       "\\item 'initial\\_list\\_status'\n",
       "\\item 'out\\_prncp'\n",
       "\\item 'out\\_prncp\\_inv'\n",
       "\\item 'total\\_pymnt'\n",
       "\\item 'total\\_pymnt\\_inv'\n",
       "\\item 'total\\_rec\\_prncp'\n",
       "\\item 'total\\_rec\\_int'\n",
       "\\item 'total\\_rec\\_late\\_fee'\n",
       "\\item 'recoveries'\n",
       "\\item 'collection\\_recovery\\_fee'\n",
       "\\item 'last\\_pymnt\\_amnt'\n",
       "\\item 'collections\\_12\\_mths\\_ex\\_med'\n",
       "\\item 'application\\_type'\n",
       "\\item 'acc\\_now\\_delinq'\n",
       "\\item 'tot\\_coll\\_amt'\n",
       "\\item 'tot\\_cur\\_bal'\n",
       "\\item 'total\\_rev\\_hi\\_lim'\n",
       "\\item 'is\\_bad'\n",
       "\\item 'term.months'\n",
       "\\item 'paid.back'\n",
       "\\end{enumerate*}\n"
      ],
      "text/markdown": [
       "1. 'loan_amnt'\n",
       "2. 'funded_amnt'\n",
       "3. 'funded_amnt_inv'\n",
       "4. 'int_rate'\n",
       "5. 'installment'\n",
       "6. 'grade'\n",
       "7. 'emp_length'\n",
       "8. 'home_ownership'\n",
       "9. 'annual_inc'\n",
       "10. 'verification_status'\n",
       "11. 'issue_d'\n",
       "12. 'pymnt_plan'\n",
       "13. 'purpose'\n",
       "14. 'dti'\n",
       "15. 'delinq_2yrs'\n",
       "16. 'earliest_cr_line'\n",
       "17. 'inq_last_6mths'\n",
       "18. 'open_acc'\n",
       "19. 'pub_rec'\n",
       "20. 'revol_bal'\n",
       "21. 'revol_util'\n",
       "22. 'total_acc'\n",
       "23. 'initial_list_status'\n",
       "24. 'out_prncp'\n",
       "25. 'out_prncp_inv'\n",
       "26. 'total_pymnt'\n",
       "27. 'total_pymnt_inv'\n",
       "28. 'total_rec_prncp'\n",
       "29. 'total_rec_int'\n",
       "30. 'total_rec_late_fee'\n",
       "31. 'recoveries'\n",
       "32. 'collection_recovery_fee'\n",
       "33. 'last_pymnt_amnt'\n",
       "34. 'collections_12_mths_ex_med'\n",
       "35. 'application_type'\n",
       "36. 'acc_now_delinq'\n",
       "37. 'tot_coll_amt'\n",
       "38. 'tot_cur_bal'\n",
       "39. 'total_rev_hi_lim'\n",
       "40. 'is_bad'\n",
       "41. 'term.months'\n",
       "42. 'paid.back'\n",
       "\n",
       "\n"
      ],
      "text/plain": [
       " [1] \"loan_amnt\"                  \"funded_amnt\"               \n",
       " [3] \"funded_amnt_inv\"            \"int_rate\"                  \n",
       " [5] \"installment\"                \"grade\"                     \n",
       " [7] \"emp_length\"                 \"home_ownership\"            \n",
       " [9] \"annual_inc\"                 \"verification_status\"       \n",
       "[11] \"issue_d\"                    \"pymnt_plan\"                \n",
       "[13] \"purpose\"                    \"dti\"                       \n",
       "[15] \"delinq_2yrs\"                \"earliest_cr_line\"          \n",
       "[17] \"inq_last_6mths\"             \"open_acc\"                  \n",
       "[19] \"pub_rec\"                    \"revol_bal\"                 \n",
       "[21] \"revol_util\"                 \"total_acc\"                 \n",
       "[23] \"initial_list_status\"        \"out_prncp\"                 \n",
       "[25] \"out_prncp_inv\"              \"total_pymnt\"               \n",
       "[27] \"total_pymnt_inv\"            \"total_rec_prncp\"           \n",
       "[29] \"total_rec_int\"              \"total_rec_late_fee\"        \n",
       "[31] \"recoveries\"                 \"collection_recovery_fee\"   \n",
       "[33] \"last_pymnt_amnt\"            \"collections_12_mths_ex_med\"\n",
       "[35] \"application_type\"           \"acc_now_delinq\"            \n",
       "[37] \"tot_coll_amt\"               \"tot_cur_bal\"               \n",
       "[39] \"total_rev_hi_lim\"           \"is_bad\"                    \n",
       "[41] \"term.months\"                \"paid.back\"                 "
      ]
     },
     "metadata": {},
     "output_type": "display_data"
    }
   ],
   "source": [
    "names(train)"
   ]
  },
  {
   "cell_type": "code",
   "execution_count": 84,
   "metadata": {
    "collapsed": false,
    "scrolled": true
   },
   "outputs": [
    {
     "data": {
      "text/html": [
       "0.86863590111977"
      ],
      "text/latex": [
       "0.86863590111977"
      ],
      "text/markdown": [
       "0.86863590111977"
      ],
      "text/plain": [
       "Area under the curve: 0.8686"
      ]
     },
     "metadata": {},
     "output_type": "display_data"
    }
   ],
   "source": [
    "test$predictoutput <- predict(rf.model,test,type=\"response\")\n",
    "test$is_bad <- as.numeric(as.factor(test$is_bad))\n",
    "test$predictoutput <- as.numeric(as.factor(test$predictoutput))\n",
    "test$is_bad_auc <- as.numeric(as.factor(test$is_bad))\n",
    "test$predictoutput_auc <- as.numeric(as.factor(test$predictoutput))\n",
    "auc(test$is_bad_auc, test$predictoutput_auc)\n"
   ]
  },
  {
   "cell_type": "code",
   "execution_count": 85,
   "metadata": {
    "collapsed": false
   },
   "outputs": [
    {
     "data": {
      "image/png": "[encoded data removed]",
      "text/plain": [
       "plot without title"
      ]
     },
     "metadata": {},
     "output_type": "display_data"
    }
   ],
   "source": [
    "varImpPlot(rf.model)"
   ]
  },
  {
   "cell_type": "code",
   "execution_count": 86,
   "metadata": {
    "collapsed": false
   },
   "outputs": [
    {
     "data": {
      "text/plain": [
       "Confusion Matrix and Statistics\n",
       "\n",
       "          Reference\n",
       "Prediction     1     2\n",
       "         1  8270   428\n",
       "         2  2417 11277\n",
       "                                          \n",
       "               Accuracy : 0.8729          \n",
       "                 95% CI : (0.8685, 0.8773)\n",
       "    No Information Rate : 0.5227          \n",
       "    P-Value [Acc > NIR] : < 2.2e-16       \n",
       "                                          \n",
       "                  Kappa : 0.7433          \n",
       " Mcnemar's Test P-Value : < 2.2e-16       \n",
       "                                          \n",
       "            Sensitivity : 0.7738          \n",
       "            Specificity : 0.9634          \n",
       "         Pos Pred Value : 0.9508          \n",
       "         Neg Pred Value : 0.8235          \n",
       "             Prevalence : 0.4773          \n",
       "         Detection Rate : 0.3693          \n",
       "   Detection Prevalence : 0.3884          \n",
       "      Balanced Accuracy : 0.8686          \n",
       "                                          \n",
       "       'Positive' Class : 1               \n",
       "                                          "
      ]
     },
     "metadata": {},
     "output_type": "display_data"
    }
   ],
   "source": [
    "confusionMatrix(test$predictoutput,test$is_bad)"
   ]
  },
  {
   "cell_type": "code",
   "execution_count": 87,
   "metadata": {
    "collapsed": false
   },
   "outputs": [
    {
     "data": {
      "text/plain": [
       "   Min. 1st Qu.  Median    Mean 3rd Qu.    Max. \n",
       "      0       0    1956    6236   10870   35000 "
      ]
     },
     "metadata": {},
     "output_type": "display_data"
    }
   ],
   "source": [
    "summary(loan$out_prncp_inv)"
   ]
  },
  {
   "cell_type": "code",
   "execution_count": 88,
   "metadata": {
    "collapsed": false
   },
   "outputs": [],
   "source": [
    "#logisticregression1 <- glm(is_bad ~ ., data=train, family=binomial())\n",
    "#summary(logisticregression1)"
   ]
  },
  {
   "cell_type": "code",
   "execution_count": 89,
   "metadata": {
    "collapsed": false
   },
   "outputs": [],
   "source": [
    "#test$regressionoutput <- predict(rf.model,test,type=\"response\")\n",
    "\n",
    "#test$is_bad <- as.numeric(as.factor(test$is_bad))\n",
    "#test$regressionoutput <- as.numeric(as.factor(test$regressionoutput))\n",
    "\n",
    "#test$is_bad_auc <- as.numeric(as.factor(test$is_bad))\n",
    "#test$regressionoutput_auc <- as.numeric(as.factor(test$regressionoutput))\n",
    "\n",
    "#auc(test$is_bad_auc, test$regressionoutput_auc)"
   ]
  },
  {
   "cell_type": "code",
   "execution_count": 90,
   "metadata": {
    "collapsed": false
   },
   "outputs": [],
   "source": [
    "#confusionMatrix(test$is_bad, test$regressionoutput)"
   ]
  },
  {
   "cell_type": "code",
   "execution_count": 91,
   "metadata": {
    "collapsed": false
   },
   "outputs": [],
   "source": [
    "#write.csv(loan, file = \"loan.csv\", row.names=FALSE)"
   ]
  }
 ],
 "metadata": {
  "kernelspec": {
   "display_name": "R",
   "language": "R",
   "name": "ir"
  },
  "language_info": {
   "codemirror_mode": "r",
   "file_extension": ".r",
   "mimetype": "text/x-r-source",
   "name": "R",
   "pygments_lexer": "r",
   "version": "3.3.3"
  }
 },
 "nbformat": 4,
 "nbformat_minor": 2
}
